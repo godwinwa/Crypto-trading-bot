{
 "cells": [
  {
   "cell_type": "code",
   "execution_count": null,
   "metadata": {},
   "outputs": [],
   "source": [
    "from binance import Client\n",
    "import pandas as pd"
   ]
  },
  {
   "cell_type": "code",
   "execution_count": null,
   "metadata": {},
   "outputs": [],
   "source": [
    "api_key = ''\n",
    "api_secret = ''"
   ]
  },
  {
   "cell_type": "code",
   "execution_count": null,
   "metadata": {},
   "outputs": [],
   "source": [
    "client = Client(api_key, api_secret)"
   ]
  },
  {
   "cell_type": "code",
   "execution_count": null,
   "metadata": {},
   "outputs": [],
   "source": [
    "client.get_account()"
   ]
  },
  {
   "cell_type": "code",
   "execution_count": null,
   "metadata": {},
   "outputs": [],
   "source": [
    "pd.DataFrame(client.get_historical_klines('ETHUSDT', '1m', '30 min ago UTC'))"
   ]
  },
  {
   "cell_type": "code",
   "execution_count": null,
   "metadata": {},
   "outputs": [],
   "source": [
    "def get_minute_data(symbol, interval, lookback):\n",
    "    frame = pd.DataFrame(client.get_historical_klines(symbol, interval, '{} ago UTC'.format(lookback)))\n",
    "    frame = frame.iloc[:, :6]\n",
    "    frame.columns = ['Time', 'Open', 'High', 'Low', 'Close', 'Volume']\n",
    "    frame = frame.set_index('Time')\n",
    "    frame.index = pd.to_datetime(frame.index, unit='ms')\n",
    "    frame = frame.astype(float)\n",
    "    return frame\n",
    "   "
   ]
  },
  {
   "cell_type": "code",
   "execution_count": null,
   "metadata": {},
   "outputs": [],
   "source": [
    "test = get_minute_data('ETHUSDT', '1m', '30 min')"
   ]
  },
  {
   "cell_type": "code",
   "execution_count": null,
   "metadata": {},
   "outputs": [],
   "source": [
    "test.Open.plot()"
   ]
  },
  {
   "cell_type": "code",
   "execution_count": null,
   "metadata": {},
   "outputs": [],
   "source": [
    "def strategy_test(symbol, qty, entried=False):\n",
    "    df = get_minute_data(symbol, '1m', '30 min')\n",
    "    cumulret = (df.Open.pct_change() +1).cumprod() - 1\n",
    "    print(cumulret)\n",
    "    if not entried:\n",
    "            if cumulret[-1] < -0.002:\n",
    "                order = client.create_order(symbol=symbol, side='BUY', type='MARKET',\n",
    "                                           quantity=qty)\n",
    "                print(order)\n",
    "                entried = True\n",
    "            else:\n",
    "                print('No Trade has been executed')\n",
    "    if entried:\n",
    "        while True:\n",
    "            df = get_minute_data(symbol, '1m', '30 min')\n",
    "            sincebuy = df.loc[df.index > pd.to_datetime(order['transactTime'], unit='ms')]\n",
    "            if len(sincebuy) > 0:\n",
    "                sincebuyret = (sincebuy.Open.pct_change() +1).cumprod() - 1\n",
    "                if sincebuyret[-1] > 0.0015: \n",
    "                    order = client.create_order(symbol=symbol, side='SELL', type='MARKET',\n",
    "                                           quantity=qty)\n",
    "                    print(order)\n",
    "                    break "
   ]
  },
  {
   "cell_type": "code",
   "execution_count": null,
   "metadata": {},
   "outputs": [],
   "source": [
    "strategy_test('ETHUSDT', 0.002)"
   ]
  },
  {
   "cell_type": "code",
   "execution_count": null,
   "metadata": {},
   "outputs": [],
   "source": []
  }
 ],
 "metadata": {
  "kernelspec": {
   "display_name": "Python 3",
   "language": "python",
   "name": "python3"
  },
  "language_info": {
   "codemirror_mode": {
    "name": "ipython",
    "version": 3
   },
   "file_extension": ".py",
   "mimetype": "text/x-python",
   "name": "python",
   "nbconvert_exporter": "python",
   "pygments_lexer": "ipython3",
   "version": "3.8.5"
  }
 },
 "nbformat": 4,
 "nbformat_minor": 4
}
